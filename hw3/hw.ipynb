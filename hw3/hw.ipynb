{
  "nbformat": 4,
  "nbformat_minor": 0,
  "metadata": {
    "colab": {
      "name": "cvhw3.ipynb",
      "provenance": [],
      "collapsed_sections": []
    },
    "kernelspec": {
      "name": "python3",
      "display_name": "Python 3"
    }
  },
  "cells": [
    {
      "cell_type": "markdown",
      "metadata": {
        "id": "FaQqoAckjMNf"
      },
      "source": [
        "Применяя операции морфологического анализа и соответствующие структурирующие элементы необходимо определить общее количество объектов на бинарном изображении (ps.npy.txt) и количество объектов для каждого вида по отдельности."
      ]
    },
    {
      "cell_type": "code",
      "metadata": {
        "id": "EOXQ3IyVllaS"
      },
      "source": [
        "import matplotlib.pyplot as plt\n",
        "import numpy as np\n",
        "from scipy.ndimage import morphology as mrg"
      ],
      "execution_count": null,
      "outputs": []
    },
    {
      "cell_type": "code",
      "metadata": {
        "id": "BL6xqup-l0kZ",
        "outputId": "314bdbdd-9aab-423e-ea2d-3a648d214517",
        "colab": {
          "base_uri": "https://localhost:8080/",
          "height": 535
        }
      },
      "source": [
        "image = np.load('ps.npy.txt')\n",
        "plt.figure(figsize=(8,6), dpi=100)\n",
        "plt.imshow(image[100:300, 200:400])"
      ],
      "execution_count": null,
      "outputs": [
        {
          "output_type": "execute_result",
          "data": {
            "text/plain": [
              "<matplotlib.image.AxesImage at 0x7fd04ef2a400>"
            ]
          },
          "metadata": {
            "tags": []
          },
          "execution_count": 21
        },
        {
          "output_type": "display_data",
          "data": {
            "image/png": "[encoded data removed]",
            "text/plain": [
              "<Figure size 800x600 with 1 Axes>"
            ]
          },
          "metadata": {
            "tags": [],
            "needs_background": "light"
          }
        }
      ]
    },
    {
      "cell_type": "code",
      "metadata": {
        "id": "pn5-94-HmPf7"
      },
      "source": [
        "mask1 = np.ones((4,6)) # ࡮\n",
        "\n",
        "mask2 = np.ones((4,6)) # ப\n",
        "mask2[:2,2:4] = 0\n",
        "\n",
        "mask3 = np.flip(mask2) # п\n",
        "\n",
        "mask4 = np.transpose(mask2) # ɔ\n",
        "mask5 = np.transpose(mask3) # c\n",
        "\n",
        "masks = np.array([mask1, mask2, mask3, mask4, mask5])\n",
        "\n",
        "result = []"
      ],
      "execution_count": null,
      "outputs": []
    },
    {
      "cell_type": "code",
      "metadata": {
        "id": "-5NPMc6Smmf3"
      },
      "source": [
        "for i in range(5):\n",
        "    image_new = mrg.binary_hit_or_miss(image, masks[i])\n",
        "    # plt.figure(figsize=(8,6), dpi=100)\n",
        "    # plt.imshow(image2[100:300, 200:400])\n",
        "    result.append(np.sum(image_new))"
      ],
      "execution_count": null,
      "outputs": []
    },
    {
      "cell_type": "code",
      "metadata": {
        "id": "RJIJMSM9n9LW",
        "outputId": "11b4fdfb-d13d-4c0b-ba03-744e9506bbff",
        "colab": {
          "base_uri": "https://localhost:8080/"
        }
      },
      "source": [
        "symbols = ['࡮','ப','п','ɔ','c']\n",
        "for i in range(len(result)):\n",
        "    print(result[i],'-',symbols[i])\n",
        "print(np.sum(result),'- all')"
      ],
      "execution_count": null,
      "outputs": [
        {
          "output_type": "stream",
          "text": [
            "92 - ࡮\n",
            "95 - ப\n",
            "96 - п\n",
            "123 - ɔ\n",
            "94 - c\n",
            "500 - all\n"
          ],
          "name": "stdout"
        }
      ]
    }
  ]
}