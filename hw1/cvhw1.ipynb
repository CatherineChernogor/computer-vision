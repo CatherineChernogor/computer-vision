{
  "nbformat": 4,
  "nbformat_minor": 0,
  "metadata": {
    "colab": {
      "name": "cvhw1.ipynb",
      "provenance": []
    },
    "kernelspec": {
      "name": "python3",
      "display_name": "Python 3"
    }
  },
  "cells": [
    {
      "cell_type": "markdown",
      "metadata": {
        "id": "CGbP_g46cT6Z"
      },
      "source": [
        "Задание: Номинальное разрешение\n",
        "                        \n",
        "\n",
        "Для заданных изображений(figure1-6) определить номинальные разрешения (мм / пиксель). Каждое изображение записано в текстовый файл в формате:                        \n",
        "\n",
        "    Максимальный размер объекта в миллиметрах по горизонтали\n",
        "    #\n",
        "    0 0 0\n",
        "    0 0 0\n",
        "    0 0 0\n",
        "                                                \n",
        "\n",
        "Изображение содержит только значения 0 или 1. Для чтения можно использовать функцию `open` или `np.loadtxt`.\n",
        "\n",
        "Баллов: 3\n",
        "\n",
        "\n"
      ]
    },
    {
      "cell_type": "code",
      "metadata": {
        "id": "zdi1Spx8ksy4"
      },
      "source": [
        "import numpy as np\n",
        "import os\n",
        "import matplotlib.pyplot as plt"
      ],
      "execution_count": 5,
      "outputs": []
    },
    {
      "cell_type": "code",
      "metadata": {
        "id": "_r79BFbucW8P",
        "outputId": "5863bd57-7e6d-411d-f6aa-be1e22eb7a64",
        "colab": {
          "base_uri": "https://localhost:8080/",
          "height": 420
        }
      },
      "source": [
        "filename = 'figure'\n",
        "ending = '.txt'\n",
        "\n",
        "for i in range(1,7):\n",
        "\n",
        "    file = open(filename+str(i)+ending)\n",
        "    width_mm = float(file.readline())\n",
        "    lines = file.readlines()[1:]\n",
        "    file.close()\n",
        "\n",
        "    len_img = len(lines[0].split())\n",
        "\n",
        "    resolution = width_mm/len_img\n",
        "    print(f'Resolution for figure{i} = {resolution}, \\n\\tmax width in mm = {width_mm}, \\t pixels width = {len_img}\\n\\n')"
      ],
      "execution_count": 6,
      "outputs": [
        {
          "output_type": "stream",
          "text": [
            "Resolution for figure1 = 0.18, \n",
            "\tmax width in mm = 9.0, \t pixels width = 50\n",
            "\n",
            "\n",
            "Resolution for figure2 = 0.016666666666666666, \n",
            "\tmax width in mm = 1.0, \t pixels width = 60\n",
            "\n",
            "\n",
            "Resolution for figure3 = 0.182, \n",
            "\tmax width in mm = 18.2, \t pixels width = 100\n",
            "\n",
            "\n",
            "Resolution for figure4 = 0.3, \n",
            "\tmax width in mm = 30.0, \t pixels width = 100\n",
            "\n",
            "\n",
            "Resolution for figure5 = 2.0, \n",
            "\tmax width in mm = 100.0, \t pixels width = 50\n",
            "\n",
            "\n",
            "Resolution for figure6 = 0.075, \n",
            "\tmax width in mm = 15.0, \t pixels width = 200\n",
            "\n",
            "\n"
          ],
          "name": "stdout"
        }
      ]
    },
    {
      "cell_type": "markdown",
      "metadata": {
        "id": "yfz94hZYkyyw"
      },
      "source": [
        "Задание: Определить смещение\n",
        "\n",
        "Даны два изображения img1 и img2. Необходимо определить насколько одно изображение смещено относительно другого (выдать смещение y, x). Данные представлены в текстовом формате. Изображение содержит только значения 0 или 1.\n",
        "\n",
        "Баллов: 2"
      ]
    },
    {
      "cell_type": "code",
      "metadata": {
        "id": "tHcdkcYMn_XC"
      },
      "source": [
        "def read_img(filename):\n",
        "    temp = []\n",
        "    lines = open(filename).readlines()\n",
        "    for line in lines[2:]:\n",
        "        temp.append(line.split())\n",
        "\n",
        "    return np.array(temp, dtype='int32')"
      ],
      "execution_count": 7,
      "outputs": []
    },
    {
      "cell_type": "code",
      "metadata": {
        "id": "s_EZFBemq5z7"
      },
      "source": [
        "def show_imgs(img1, img2):\n",
        "    plt.subplot(1,2,1)\n",
        "    plt.imshow(img1)\n",
        "    plt.subplot(1,2,2)\n",
        "    plt.imshow(img2)\n",
        "    plt.show()"
      ],
      "execution_count": 8,
      "outputs": []
    },
    {
      "cell_type": "code",
      "metadata": {
        "id": "VPhz6zmbqupX",
        "outputId": "a1c5b984-0e4a-4111-b27f-0b8b988a7094",
        "colab": {
          "base_uri": "https://localhost:8080/",
          "height": 204
        }
      },
      "source": [
        "img1 = read_img('img1.txt')\n",
        "img2 = read_img('img2.txt')\n",
        "\n",
        "show_imgs(img1, img2)"
      ],
      "execution_count": 9,
      "outputs": [
        {
          "output_type": "display_data",
          "data": {
            "image/png": "[encoded data removed]",
            "text/plain": [
              "<Figure size 432x288 with 2 Axes>"
            ]
          },
          "metadata": {
            "tags": [],
            "needs_background": "light"
          }
        }
      ]
    },
    {
      "cell_type": "code",
      "metadata": {
        "id": "QMFmZYzVrhzT",
        "outputId": "aad9abd0-9592-4bd4-cd85-4aff326cfcd3",
        "colab": {
          "base_uri": "https://localhost:8080/",
          "height": 285
        }
      },
      "source": [
        "img = img1+ img2\n",
        "plt.imshow(img[30:70,30:80])\n",
        "plt.colorbar()"
      ],
      "execution_count": 31,
      "outputs": [
        {
          "output_type": "execute_result",
          "data": {
            "text/plain": [
              "<matplotlib.colorbar.Colorbar at 0x7f1ff1880198>"
            ]
          },
          "metadata": {
            "tags": []
          },
          "execution_count": 31
        },
        {
          "output_type": "display_data",
          "data": {
            "image/png": "[encoded data removed]",
            "text/plain": [
              "<Figure size 432x288 with 2 Axes>"
            ]
          },
          "metadata": {
            "tags": [],
            "needs_background": "light"
          }
        }
      ]
    },
    {
      "cell_type": "code",
      "metadata": {
        "id": "biplVasyYRUE"
      },
      "source": [
        "def find_first_point(img):\n",
        "    for y in range(img.shape[0]):\n",
        "        for x in range(img.shape[1]):\n",
        "            if img[y, x] == 1:\n",
        "                return y, x"
      ],
      "execution_count": 23,
      "outputs": []
    },
    {
      "cell_type": "code",
      "metadata": {
        "id": "ZvuxaEhAZ_Wq",
        "outputId": "11e630d0-d269-481b-9507-cc9400a464df",
        "colab": {
          "base_uri": "https://localhost:8080/",
          "height": 34
        }
      },
      "source": [
        "y1, x1 = find_first_point(img1)\n",
        "y2, x2 = find_first_point(img2)\n",
        "\n",
        "print(f'сдвиг по оси у = {y2-y1} и по оси х = {x2-x1}')"
      ],
      "execution_count": 32,
      "outputs": [
        {
          "output_type": "stream",
          "text": [
            "сдвиг по оси у = -4 и по оси х = 10\n"
          ],
          "name": "stdout"
        }
      ]
    }
  ]
}