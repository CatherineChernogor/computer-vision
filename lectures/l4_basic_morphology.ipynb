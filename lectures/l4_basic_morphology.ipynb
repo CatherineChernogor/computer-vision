{
 "cells": [
  {
   "cell_type": "code",
   "execution_count": 1,
   "metadata": {},
   "outputs": [],
   "source": [
    "import numpy as np\n",
    "import matplotlib.pyplot as plt"
   ]
  },
  {
   "cell_type": "code",
   "execution_count": 2,
   "metadata": {},
   "outputs": [],
   "source": [
    "arr = np.array([[0,0,0,0,0,0,0,0,0,0],\n",
    "                [0,0,0,0,0,0,0,0,0,0],\n",
    "                [0,1,1,1,1,1,1,1,0,0],\n",
    "                [0,0,0,0,1,1,1,1,0,0],\n",
    "                [0,0,0,0,1,1,1,1,0,0],\n",
    "                [0,0,0,1,1,1,1,1,0,0],\n",
    "                [0,0,0,0,1,1,1,1,0,0],\n",
    "                [0,0,0,1,1,0,0,0,0,0],\n",
    "                [0,0,0,0,0,0,0,0,0,0],\n",
    "                [0,0,0,0,0,0,0,0,0,0]])"
   ]
  },
  {
   "cell_type": "code",
   "execution_count": 4,
   "metadata": {},
   "outputs": [],
   "source": [
    "struct = np.ones((3, 3))"
   ]
  },
  {
   "cell_type": "code",
   "execution_count": 5,
   "metadata": {},
   "outputs": [],
   "source": [
    "def dilation(image, mask = struct):\n",
    "    \n",
    "    result = np.zeros_like(image)\n",
    "    for y in range(1, image.shape[0] - 1):\n",
    "        for x in range(1, image.shape[1] - 1):\n",
    "            \n",
    "            rlog = np.logical_and(arr[y, x], mask)\n",
    "            result[y-1:y+2, x-1:x+2] = np.logical_or(result[y-1:y+2, x-1:x+2], rlog)\n",
    "            \n",
    "    return result"
   ]
  },
  {
   "cell_type": "code",
   "execution_count": 6,
   "metadata": {},
   "outputs": [],
   "source": [
    "def erosion(image, mask = struct):\n",
    "        \n",
    "    result = np.zeros_like(image)\n",
    "    for y in range(1, image.shape[0] - 1):\n",
    "        for x in range(1, image.shape[1] - 1):\n",
    "            \n",
    "            sub = image[y-1:y+2, x-1:x+2]\n",
    "            if np.all(sub == mask):\n",
    "                result[y, x] = 1\n",
    "            \n",
    "    return result"
   ]
  },
  {
   "cell_type": "code",
   "execution_count": 7,
   "metadata": {},
   "outputs": [],
   "source": [
    "def closing(image, mask=struct):\n",
    "    return erosion(dilation(image, mask), mask)"
   ]
  },
  {
   "cell_type": "code",
   "execution_count": 8,
   "metadata": {},
   "outputs": [],
   "source": [
    "def opening(image, mask=struct):\n",
    "    return dilation(erosion(image, mask), mask)"
   ]
  },
  {
   "cell_type": "code",
   "execution_count": 9,
   "metadata": {},
   "outputs": [
    {
     "data": {
      "text/plain": [
       "<matplotlib.image.AxesImage at 0x11a8bb0>"
      ]
     },
     "execution_count": 9,
     "metadata": {},
     "output_type": "execute_result"
    },
    {
     "data": {
      "image/png": "[encoded data removed]",
      "text/plain": [
       "<Figure size 432x288 with 5 Axes>"
      ]
     },
     "metadata": {
      "needs_background": "light"
     },
     "output_type": "display_data"
    }
   ],
   "source": [
    "plt.figure()\n",
    "plt.subplot(151)\n",
    "plt.imshow(arr, cmap='magma')\n",
    "plt.subplot(152)\n",
    "plt.imshow(dilation(arr), cmap='magma')\n",
    "plt.subplot(153)\n",
    "plt.imshow(erosion(arr), cmap='magma')\n",
    "plt.subplot(154)\n",
    "plt.imshow(closing(arr), cmap='magma')\n",
    "plt.subplot(155)\n",
    "plt.imshow(opening(arr), cmap='magma') #не понятно почему не работает как надо"
   ]
  }
 ],
 "metadata": {
  "kernelspec": {
   "display_name": "Python 3",
   "language": "python",
   "name": "python3"
  },
  "language_info": {
   "codemirror_mode": {
    "name": "ipython",
    "version": 3
   },
   "file_extension": ".py",
   "mimetype": "text/x-python",
   "name": "python",
   "nbconvert_exporter": "python",
   "pygments_lexer": "ipython3",
   "version": "3.8.5"
  }
 },
 "nbformat": 4,
 "nbformat_minor": 4
}
