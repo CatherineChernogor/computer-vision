{
 "cells": [
  {
   "cell_type": "code",
   "execution_count": 14,
   "metadata": {},
   "outputs": [
    {
     "ename": "SyntaxError",
     "evalue": "invalid syntax (<ipython-input-14-f9a050a9acf1>, line 2)",
     "output_type": "error",
     "traceback": [
      "\u001b[1;36m  File \u001b[1;32m\"<ipython-input-14-f9a050a9acf1>\"\u001b[1;36m, line \u001b[1;32m2\u001b[0m\n\u001b[1;33m    from '/lec/lect3' import recursive_label\u001b[0m\n\u001b[1;37m         ^\u001b[0m\n\u001b[1;31mSyntaxError\u001b[0m\u001b[1;31m:\u001b[0m invalid syntax\n"
     ]
    }
   ],
   "source": [
    "from scipy.ndimage import morphology\n",
    "from '/lec/lect3' import recursive_label"
   ]
  },
  {
   "cell_type": "markdown",
   "metadata": {},
   "source": [
    "### Ищем куски проводов"
   ]
  },
  {
   "cell_type": "code",
   "execution_count": null,
   "metadata": {},
   "outputs": [],
   "source": [
    "image = np.load('src/wires5.npy.txt')\n",
    "label1 = recursive_label(image)\n",
    "plt.imshow(label1)"
   ]
  },
  {
   "cell_type": "code",
   "execution_count": null,
   "metadata": {},
   "outputs": [],
   "source": [
    "for i in range(1, np.max(label1)+1):\n",
    "    one_wire_image = np.zeros_like(label1)\n",
    "    one_wire_image[label1 == i] = 1\n",
    "    \n",
    "    result = recursive_label(morphology.binary_erosion(one_wire_image, struct))\n",
    "    print(np.max(result))"
   ]
  },
  {
   "cell_type": "markdown",
   "metadata": {},
   "source": [
    "### Ищем количество звездочек"
   ]
  },
  {
   "cell_type": "code",
   "execution_count": null,
   "metadata": {},
   "outputs": [],
   "source": [
    "stars = np.load('src/stars.npy.txt')\n",
    "plt.imshow(stars[100:200, 100:200], cmap='magma')"
   ]
  },
  {
   "cell_type": "code",
   "execution_count": null,
   "metadata": {},
   "outputs": [],
   "source": [
    "mask1 = np.array([[0,0,1,0,0],\n",
    "                  [0,0,1,0,0],\n",
    "                  [1,1,1,1,1],\n",
    "                  [0,0,1,0,0],\n",
    "                  [0,0,1,0,0]]) \n",
    "\n",
    "mask2 = np.array([[1,0,0,0,1],\n",
    "                  [0,1,0,1,0],\n",
    "                  [0,0,1,0,0],\n",
    "                  [0,1,0,1,0],\n",
    "                  [1,0,0,0,1]])"
   ]
  },
  {
   "cell_type": "code",
   "execution_count": null,
   "metadata": {},
   "outputs": [],
   "source": [
    "pluses = morphology.binary_opening(stars, mask1)\n",
    "# plt.imshow(diags[100:200, 100:200], cmap='magma')"
   ]
  },
  {
   "cell_type": "code",
   "execution_count": null,
   "metadata": {},
   "outputs": [],
   "source": [
    "diags = morphology.binary_opening(stars, mask2)\n",
    "# plt.imshow(diags[100:200, 100:200], cmap='magma')"
   ]
  },
  {
   "cell_type": "code",
   "execution_count": null,
   "metadata": {},
   "outputs": [],
   "source": [
    "print('pluses:', np.sum(pluses)/np.sum(mask1))\n",
    "print('diags:', np.sum(diags)/np.sum(mask2))"
   ]
  }
 ],
 "metadata": {
  "kernelspec": {
   "display_name": "Python 3",
   "language": "python",
   "name": "python3"
  },
  "language_info": {
   "codemirror_mode": {
    "name": "ipython",
    "version": 3
   },
   "file_extension": ".py",
   "mimetype": "text/x-python",
   "name": "python",
   "nbconvert_exporter": "python",
   "pygments_lexer": "ipython3",
   "version": "3.8.5"
  }
 },
 "nbformat": 4,
 "nbformat_minor": 4
}
