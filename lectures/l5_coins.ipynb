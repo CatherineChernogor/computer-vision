{
 "cells": [
  {
   "cell_type": "code",
   "execution_count": 1,
   "metadata": {},
   "outputs": [],
   "source": [
    "import numpy as np\n",
    "import matplotlib.pyplot as plt"
   ]
  },
  {
   "cell_type": "code",
   "execution_count": 3,
   "metadata": {},
   "outputs": [
    {
     "data": {
      "text/plain": [
       "<matplotlib.image.AxesImage at 0x118d598>"
      ]
     },
     "execution_count": 3,
     "metadata": {},
     "output_type": "execute_result"
    },
    {
     "data": {
      "image/png": "[encoded data removed]",
      "text/plain": [
       "<Figure size 432x288 with 1 Axes>"
      ]
     },
     "metadata": {
      "needs_background": "light"
     },
     "output_type": "display_data"
    }
   ],
   "source": [
    "lb = np.zeros((16, 16))\n",
    "lb[4:, :4] = 2\n",
    "lb[3:10, 8:] = 1\n",
    "lb[[3,4,3],[8,8,9]] = 0\n",
    "lb[[8,9,9],[8,8,9]] = 0\n",
    "\n",
    "lb[[3,4,3],[-2,-1,-1]] = 0\n",
    "lb[[9,8,9],[-2,-1,-1]] = 0\n",
    "\n",
    "lb[12:-1, 6:9] = 3\n",
    "plt.imshow(lb)"
   ]
  },
  {
   "cell_type": "code",
   "execution_count": 7,
   "metadata": {},
   "outputs": [],
   "source": [
    "def area(img, label=1):\n",
    "    area = np.sum(img[img == label])\n",
    "    return area/label"
   ]
  },
  {
   "cell_type": "code",
   "execution_count": 8,
   "metadata": {},
   "outputs": [
    {
     "name": "stdout",
     "output_type": "stream",
     "text": [
      "44.0\n",
      "48.0\n",
      "9.0\n"
     ]
    }
   ],
   "source": [
    "print(area(lb))\n",
    "print(area(lb, 2))\n",
    "print(area(lb, 3))"
   ]
  },
  {
   "cell_type": "code",
   "execution_count": 10,
   "metadata": {},
   "outputs": [],
   "source": [
    "def centroid(img, label=1):\n",
    "    pos = np.where(img==label)\n",
    "    cy = np.mean(pos[0])\n",
    "    cx = np.mean(pos[1])\n",
    "    return cy, cx"
   ]
  },
  {
   "cell_type": "code",
   "execution_count": 13,
   "metadata": {},
   "outputs": [],
   "source": [
    "c1 = centroid(lb)\n",
    "c2 = centroid(lb, 2)\n",
    "c3 = centroid(lb, 3)"
   ]
  },
  {
   "cell_type": "code",
   "execution_count": 14,
   "metadata": {},
   "outputs": [
    {
     "name": "stdout",
     "output_type": "stream",
     "text": [
      "(6.0, 11.5) (9.5, 1.5) (13.0, 7.0)\n"
     ]
    }
   ],
   "source": [
    "print(c1, c2, c3)"
   ]
  },
  {
   "cell_type": "code",
   "execution_count": 15,
   "metadata": {},
   "outputs": [],
   "source": [
    "def neighbors(y, x):\n",
    "    return ((y, x+1), (y+1, x), (y, x-1), (y-1, x))"
   ]
  },
  {
   "cell_type": "code",
   "execution_count": 16,
   "metadata": {},
   "outputs": [],
   "source": [
    "def get_boundaries(img, label=1):\n",
    "    pos = np.where(img == label)\n",
    "    boundaries = []\n",
    "    for y, x in zip(*pos):\n",
    "        for yn, xn in neighbors(y, x):\n",
    "            if yn < 0 or yn> img.shape[0] - 1:\n",
    "                boundaries.append((y,x))\n",
    "                break\n",
    "                \n",
    "            if xn < 0 or xn> img.shape[1] - 1:\n",
    "                boundaries.append((y,x))\n",
    "                break\n",
    "                \n",
    "            elif img[yn, xn] != label:\n",
    "                boundaries.append((y,x))\n",
    "                break    \n",
    "    return boundaries"
   ]
  },
  {
   "cell_type": "code",
   "execution_count": 17,
   "metadata": {},
   "outputs": [],
   "source": [
    "def draw_boundaries(img, label = 1):\n",
    "    bb = np.zeros_like(img)\n",
    "    bb[img == label] = 1\n",
    "    for y, x in get_boundaries(bb):\n",
    "        bb[y, x] = 2\n",
    "    return bb"
   ]
  },
  {
   "cell_type": "code",
   "execution_count": 24,
   "metadata": {},
   "outputs": [
    {
     "data": {
      "text/plain": [
       "<matplotlib.colorbar.Colorbar at 0x109010b8>"
      ]
     },
     "execution_count": 24,
     "metadata": {},
     "output_type": "execute_result"
    },
    {
     "data": {
      "image/png": "[encoded data removed]",
      "text/plain": [
       "<Figure size 432x288 with 2 Axes>"
      ]
     },
     "metadata": {
      "needs_background": "light"
     },
     "output_type": "display_data"
    }
   ],
   "source": [
    "plt.imshow(draw_boundaries(lb))\n",
    "plt.colorbar()"
   ]
  },
  {
   "cell_type": "code",
   "execution_count": 26,
   "metadata": {},
   "outputs": [],
   "source": [
    "def perimetr(img, label = 1):\n",
    "    return len(get_boundaries(img, label))"
   ]
  },
  {
   "cell_type": "code",
   "execution_count": 29,
   "metadata": {},
   "outputs": [
    {
     "name": "stdout",
     "output_type": "stream",
     "text": [
      "18\n",
      "28\n",
      "8\n"
     ]
    }
   ],
   "source": [
    "print(perimetr(lb))\n",
    "print(perimetr(lb, 2))\n",
    "print(perimetr(lb, 3))"
   ]
  },
  {
   "cell_type": "code",
   "execution_count": 30,
   "metadata": {},
   "outputs": [],
   "source": [
    "def circularity(img, label = 1):\n",
    "    return (perimetr(lb, label)**2)/area(img, label)"
   ]
  },
  {
   "cell_type": "code",
   "execution_count": 33,
   "metadata": {},
   "outputs": [
    {
     "name": "stdout",
     "output_type": "stream",
     "text": [
      "7.363636363636363\n",
      "16.333333333333332\n",
      "7.111111111111111\n"
     ]
    }
   ],
   "source": [
    "print(circularity(lb))\n",
    "print(circularity(lb, 2))\n",
    "print(circularity(lb, 3 ))"
   ]
  },
  {
   "cell_type": "code",
   "execution_count": 43,
   "metadata": {},
   "outputs": [],
   "source": [
    "def distance(p1, p2):\n",
    "    return ((p1[0]-p2[0])**2 +(p1[1]-p2[1])**2)**0.5"
   ]
  },
  {
   "cell_type": "code",
   "execution_count": 44,
   "metadata": {},
   "outputs": [],
   "source": [
    "def radial_dist(img, label=1):\n",
    "    r, c = centroid(img, label)\n",
    "    bound = get_boundaries(img, label)\n",
    "    K = len(bound)\n",
    "    rd =0 \n",
    "    for rk, ck in bound:\n",
    "        rd += distance((r,c),(rk, ck))\n",
    "    return rd / K"
   ]
  },
  {
   "cell_type": "code",
   "execution_count": 45,
   "metadata": {},
   "outputs": [],
   "source": [
    "def std_radial(img, label = 1):\n",
    "    r, c = centroid(img, label)\n",
    "    bound = get_boundaries(img, label)\n",
    "    K = len(bound)\n",
    "    rd = radial_dist(img, label)\n",
    "    sr = 0\n",
    "    for rk, ck, in bound:\n",
    "        sr += (distance((r,c), (rk, ck))- rd)**2\n",
    "    return (sr/K)**0.5"
   ]
  },
  {
   "cell_type": "code",
   "execution_count": 46,
   "metadata": {},
   "outputs": [],
   "source": [
    "def circularity_std(img, label = 1):\n",
    "    return radial_dist(img, label)/std_radial(img, label)"
   ]
  },
  {
   "cell_type": "code",
   "execution_count": 48,
   "metadata": {},
   "outputs": [
    {
     "name": "stdout",
     "output_type": "stream",
     "text": [
      "15.38190804385473\n",
      "2.494772261990279\n",
      "5.828427124746188\n"
     ]
    }
   ],
   "source": [
    "print(circularity_std(lb))\n",
    "print(circularity_std(lb, 2))\n",
    "print(circularity_std(lb, 3))"
   ]
  },
  {
   "cell_type": "code",
   "execution_count": 49,
   "metadata": {},
   "outputs": [],
   "source": [
    "def moment_rc(lb, label=1):\n",
    "    A = area(lb, label)\n",
    "    r, c = centroid(lb, label)\n",
    "    pos = np.where(lb == label)\n",
    "    mrc = np.sum((pos[0]-r)*(pos[1]-c))\n",
    "    return mrc / A"
   ]
  },
  {
   "cell_type": "code",
   "execution_count": 51,
   "metadata": {},
   "outputs": [
    {
     "name": "stdout",
     "output_type": "stream",
     "text": [
      "0.0\n",
      "0.0\n",
      "0.0\n"
     ]
    }
   ],
   "source": [
    "print(moment_rc(lb))\n",
    "print(moment_rc(lb, 2))\n",
    "print(moment_rc(lb, 3))"
   ]
  },
  {
   "cell_type": "code",
   "execution_count": 58,
   "metadata": {},
   "outputs": [
    {
     "data": {
      "text/plain": [
       "<matplotlib.image.AxesImage at 0x10983df0>"
      ]
     },
     "execution_count": 58,
     "metadata": {},
     "output_type": "execute_result"
    },
    {
     "data": {
      "image/png": "[encoded data removed]",
      "text/plain": [
       "<Figure size 432x288 with 1 Axes>"
      ]
     },
     "metadata": {
      "needs_background": "light"
     },
     "output_type": "display_data"
    }
   ],
   "source": [
    "img = np.load('coins.npy.txt')\n",
    "plt.imshow(img[300:400, 200:300])"
   ]
  },
  {
   "cell_type": "code",
   "execution_count": null,
   "metadata": {},
   "outputs": [],
   "source": []
  }
 ],
 "metadata": {
  "kernelspec": {
   "display_name": "Python 3",
   "language": "python",
   "name": "python3"
  },
  "language_info": {
   "codemirror_mode": {
    "name": "ipython",
    "version": 3
   },
   "file_extension": ".py",
   "mimetype": "text/x-python",
   "name": "python",
   "nbconvert_exporter": "python",
   "pygments_lexer": "ipython3",
   "version": "3.8.5"
  }
 },
 "nbformat": 4,
 "nbformat_minor": 4
}
