{
  "nbformat": 4,
  "nbformat_minor": 0,
  "metadata": {
    "kernelspec": {
      "display_name": "Python 3",
      "language": "python",
      "name": "python3"
    },
    "language_info": {
      "codemirror_mode": {
        "name": "ipython",
        "version": 3
      },
      "file_extension": ".py",
      "mimetype": "text/x-python",
      "name": "python",
      "nbconvert_exporter": "python",
      "pygments_lexer": "ipython3",
      "version": "3.8.5"
    },
    "colab": {
      "name": "cvhw2.ipynb",
      "provenance": []
    }
  },
  "cells": [
    {
      "cell_type": "code",
      "metadata": {
        "id": "DT_9OX6N6Q1m"
      },
      "source": [
        "import numpy as np\n",
        "import matplotlib.pyplot as plt"
      ],
      "execution_count": 1,
      "outputs": []
    },
    {
      "cell_type": "code",
      "metadata": {
        "id": "H1ZQDam56Q1r",
        "outputId": "6c3296db-2ce8-4914-c711-5dd496bf553f",
        "colab": {
          "base_uri": "https://localhost:8080/",
          "height": 265
        }
      },
      "source": [
        "image = np.zeros((20,20), dtype=\"int32\")\n",
        "image[1:-1, -2] = 1\n",
        "\n",
        "image[1, 1:5] = 1\n",
        "image[1, 7:12] = 1\n",
        "image[2, 1:3] = 1\n",
        "image[2, 6:8] = 1\n",
        "image[3:4, 1:7] = 1\n",
        "\n",
        "image[7:11, 11] = 1\n",
        "image[7:11, 14] = 1\n",
        "image[10:15, 10:15] = 1\n",
        "\n",
        "image[5:10, 5] = 1\n",
        "image[5:10, 6] = 1\n",
        "plt.imshow(image, cmap='magma')\n",
        "plt.show()"
      ],
      "execution_count": 2,
      "outputs": [
        {
          "output_type": "display_data",
          "data": {
            "image/png": "[encoded data removed]",
            "text/plain": [
              "<Figure size 432x288 with 1 Axes>"
            ]
          },
          "metadata": {
            "tags": [],
            "needs_background": "light"
          }
        }
      ]
    },
    {
      "cell_type": "markdown",
      "metadata": {
        "id": "biC1dbL56Q2J"
      },
      "source": [
        "## second itterative algorithm\n",
        "uses prev img"
      ]
    },
    {
      "cell_type": "code",
      "metadata": {
        "id": "4ioukU5E6Q2K"
      },
      "source": [
        "def neighbours2(B, y, x):\n",
        "    left = y, x-1\n",
        "    top = y-1, x\n",
        "    \n",
        "    if not check(B, *left):\n",
        "        left = None\n",
        "    if not check(B, *top):\n",
        "        top = None\n",
        "    return left, top"
      ],
      "execution_count": 3,
      "outputs": []
    },
    {
      "cell_type": "code",
      "metadata": {
        "id": "EquU6EyT6Q2O"
      },
      "source": [
        "def check(B, y, x):\n",
        "    if not 0 <= x< B.shape[1]:\n",
        "        return False\n",
        "    if not 0 <= y< B.shape[0]:\n",
        "        return False\n",
        "    if B[y, x] != 0:\n",
        "        return True\n",
        "    return False"
      ],
      "execution_count": 4,
      "outputs": []
    },
    {
      "cell_type": "code",
      "metadata": {
        "id": "sJ-T7o-p6Q2R"
      },
      "source": [
        "def find(label, linked):\n",
        "    j = label \n",
        "    while linked[j] != 0:\n",
        "        j = linked[j]\n",
        "    return j"
      ],
      "execution_count": 5,
      "outputs": []
    },
    {
      "cell_type": "code",
      "metadata": {
        "id": "dUKjvupy6Q2U"
      },
      "source": [
        "def union(label1, label2, linked):\n",
        "    j = find(label1, linked)\n",
        "    k = find(label2, linked)\n",
        "    if j != k:\n",
        "        linked[k] = j"
      ],
      "execution_count": 6,
      "outputs": []
    },
    {
      "cell_type": "markdown",
      "metadata": {
        "id": "weYM8PTz_4sq"
      },
      "source": [
        "#### были добавлены 2 следующих блока"
      ]
    },
    {
      "cell_type": "code",
      "metadata": {
        "id": "V7aERy8-_KYq"
      },
      "source": [
        "def remarke(image):\n",
        "    prev=[]\n",
        "    for i in range(1,np.max(image)+1):\n",
        "        if i in image:\n",
        "            prev.append(i)\n",
        "    \n",
        "    new=[i for i in range(1,len(prev)+1)]\n",
        "    print(prev, new)\n",
        "\n",
        "    for p, n in zip(prev, new):\n",
        "        image = recolor(image, p, n)\n",
        "    return image"
      ],
      "execution_count": 27,
      "outputs": []
    },
    {
      "cell_type": "code",
      "metadata": {
        "id": "dX-Cp--A_NOr"
      },
      "source": [
        "def recolor(image, prev_c, next_c):\n",
        "    if prev_c != next_c:\n",
        "        for y in range(image.shape[0]):\n",
        "            for x in range(image.shape[1]):\n",
        "                if image[y,x] == prev_c:\n",
        "                    image[y,x] = next_c\n",
        "    return image"
      ],
      "execution_count": 28,
      "outputs": []
    },
    {
      "cell_type": "code",
      "metadata": {
        "id": "QL64YJac6Q2Y"
      },
      "source": [
        "def two_pass_label(B):\n",
        "    labeled = np.zeros_like(B)\n",
        "    linked = np.zeros(len(B), dtype=\"uint16\")\n",
        "    label = 1\n",
        "    \n",
        "    for y in range(B.shape[0]):\n",
        "        for x in range(B.shape[1]):\n",
        "            if B[y, x] != 0:\n",
        "                n = neighbours2(B, y, x)\n",
        "                if n[0] is None and n[1] is None:\n",
        "                    m = label\n",
        "                    label+=1\n",
        "                else:\n",
        "                    labels = [labeled[i] for i in n if i is not None]\n",
        "                    m = min(labels)\n",
        "                    \n",
        "                labeled[y, x] = m\n",
        "                \n",
        "                for i in n:\n",
        "                    if i is not None:\n",
        "                        lb = labeled[i]\n",
        "                        if lb != m:\n",
        "                            union(m, lb, linked)\n",
        "                            \n",
        "    for y in range(B.shape[0]):\n",
        "        for x in range(B.shape[1]):\n",
        "            if B[y, x] != 0:\n",
        "                new_label = find(labeled[y, x], linked)\n",
        "                if new_label != labeled[y, x]:\n",
        "                    labeled[y, x] = new_label\n",
        "\n",
        "    \n",
        "    return remarke(labeled)"
      ],
      "execution_count": 26,
      "outputs": []
    },
    {
      "cell_type": "code",
      "metadata": {
        "id": "KYnJjXHv_QTu",
        "outputId": "197ee66e-a711-48cf-fb16-89e745e3dd98",
        "colab": {
          "base_uri": "https://localhost:8080/",
          "height": 303
        }
      },
      "source": [
        "labeled = two_pass_label(image)\n",
        "plt.imshow(labeled, cmap='magma')\n",
        "plt.colorbar()"
      ],
      "execution_count": 30,
      "outputs": [
        {
          "output_type": "stream",
          "text": [
            "[1, 3, 5, 6] [1, 2, 3, 4]\n"
          ],
          "name": "stdout"
        },
        {
          "output_type": "execute_result",
          "data": {
            "text/plain": [
              "<matplotlib.colorbar.Colorbar at 0x7fcae1199da0>"
            ]
          },
          "metadata": {
            "tags": []
          },
          "execution_count": 30
        },
        {
          "output_type": "display_data",
          "data": {
            "image/png": "[encoded data removed]",
            "text/plain": [
              "<Figure size 432x288 with 2 Axes>"
            ]
          },
          "metadata": {
            "tags": [],
            "needs_background": "light"
          }
        }
      ]
    }
  ]
}