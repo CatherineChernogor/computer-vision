{
  "nbformat": 4,
  "nbformat_minor": 0,
  "metadata": {
    "colab": {
      "name": "lec6 (1).ipynb",
      "provenance": [],
      "collapsed_sections": [],
      "include_colab_link": true
    },
    "kernelspec": {
      "name": "python3",
      "display_name": "Python 3"
    }
  },
  "cells": [
    {
      "cell_type": "markdown",
      "metadata": {
        "id": "view-in-github",
        "colab_type": "text"
      },
      "source": [
        "<a href=\"https://colab.research.google.com/github/CatherineChernogor/computer-vision/blob/master/hw4.ipynb\" target=\"_parent\"><img src=\"https://colab.research.google.com/assets/colab-badge.svg\" alt=\"Open In Colab\"/></a>"
      ]
    },
    {
      "cell_type": "code",
      "metadata": {
        "id": "4UkQYg9Dsgul"
      },
      "source": [
        "import numpy as np\n",
        "import matplotlib.pyplot as plt\n",
        "from scipy.ndimage import morphology\n",
        "from skimage.measure import label, regionprops\n",
        "from skimage.filters import  try_all_threshold, threshold_triangle"
      ],
      "execution_count": 1,
      "outputs": []
    },
    {
      "cell_type": "code",
      "metadata": {
        "id": "IW6mSuSFkuDB",
        "outputId": "c9a6ff8b-665b-4419-f788-2c7115b67df5",
        "colab": {
          "base_uri": "https://localhost:8080/"
        }
      },
      "source": [
        "import scipy\n",
        "import matplotlib\n",
        "import skimage\n",
        "\n",
        "print (np.__version__)\n",
        "print (matplotlib.__version__)\n",
        "print (scipy.__version__)\n",
        "print (skimage.__version__)"
      ],
      "execution_count": 8,
      "outputs": [
        {
          "output_type": "stream",
          "text": [
            "1.18.5\n",
            "3.2.2\n",
            "1.4.1\n",
            "0.16.2\n"
          ],
          "name": "stdout"
        }
      ]
    },
    {
      "cell_type": "code",
      "metadata": {
        "id": "jH9-uhKL1VHi"
      },
      "source": [
        "def togray(image):\n",
        "    return (0.2989*image[:, :, 0]+0.587*image[:,:,1]+0.114 * image[:, :, 2]).astype('uint8')"
      ],
      "execution_count": 2,
      "outputs": []
    },
    {
      "cell_type": "code",
      "metadata": {
        "id": "gjMPy9lj2wKb"
      },
      "source": [
        "def binarisation(image, limit_min, limit_max):\n",
        "    B = image.copy()\n",
        "    B[B<=limit_min] = 0\n",
        "    B[B>=limit_max] = 0\n",
        "    B[B>0]=1\n",
        "    return B"
      ],
      "execution_count": 3,
      "outputs": []
    },
    {
      "cell_type": "code",
      "metadata": {
        "id": "bjCOWre-9Uc6"
      },
      "source": [
        "def circularity(region, label=1):\n",
        "    return (region.perimeter**2)/region.area"
      ],
      "execution_count": 4,
      "outputs": []
    },
    {
      "cell_type": "code",
      "metadata": {
        "id": "7RT60p6iwBnC"
      },
      "source": [
        "def get_pencils(filename):\n",
        "    image = plt.imread(filename)\n",
        "    gray = togray(image)\n",
        "    # plt.subplot(121)\n",
        "    # plt.imshow(gray, cmap=\"gray\")\n",
        "\n",
        "    thresh = threshold_triangle(gray)\n",
        "    binary = binarisation(gray, 0, thresh)\n",
        "    binary = morphology.binary_erosion(binary, iterations=10)\n",
        "    binary = morphology.binary_dilation(binary, iterations=10)\n",
        "    labeled = label(binary)\n",
        "\n",
        "    areas = []\n",
        "    for region in regionprops(labeled):\n",
        "        areas.append(region.area)\n",
        "\n",
        "    for region in regionprops(labeled):\n",
        "        if region.area < np.mean(areas):\n",
        "            labeled[labeled == region.label] = 0\n",
        "        bbox = region.bbox\n",
        "        if bbox[0] == 0 or bbox[1] == 0:\n",
        "            labeled[labeled == region.label] = 0\n",
        "\n",
        "    labeled[labeled > 0] =1\n",
        "    labeled = label(labeled)\n",
        "\n",
        "    # plt.subplot(122)\n",
        "    # plt.imshow(labeled)\n",
        "    # print('total', np.max(labeled))\n",
        "\n",
        "    i, count =1, 0\n",
        "    for region  in regionprops(labeled):\n",
        "        isCirc = circularity(region, i) \n",
        "        if isCirc > 100 and region.area < 450000 and region.area > 300000:\n",
        "            # print(isCirc, region.area, region.perimeter)\n",
        "            count+=1\n",
        "        i+=1\n",
        "    return count"
      ],
      "execution_count": 5,
      "outputs": []
    },
    {
      "cell_type": "code",
      "metadata": {
        "id": "SwKflMwG8oMb",
        "outputId": "e943e5a9-9fd6-4cd7-8a17-cb6ecedc69bd",
        "colab": {
          "base_uri": "https://localhost:8080/"
        }
      },
      "source": [
        "for i in range(1,13):\n",
        "    print('img',i,get_pencils('img ('+str(i)+').jpg'))"
      ],
      "execution_count": 7,
      "outputs": [
        {
          "output_type": "stream",
          "text": [
            "img 1 0\n",
            "img 2 1\n",
            "img 3 1\n",
            "img 4 2\n",
            "img 5 2\n",
            "img 6 3\n",
            "img 7 3\n",
            "img 8 1\n",
            "img 9 2\n",
            "img 10 2\n",
            "img 11 3\n",
            "img 12 1\n"
          ],
          "name": "stdout"
        }
      ]
    },
    {
      "cell_type": "code",
      "metadata": {
        "id": "06wfCT5cee-o"
      },
      "source": [
        ""
      ],
      "execution_count": null,
      "outputs": []
    }
  ]
}